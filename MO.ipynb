{
 "cells": [
  {
   "cell_type": "markdown",
   "metadata": {},
   "source": [
    "<img src=\"images\\website_logo_transparent_background.png\" style=\"float: center; height: 100px; width: 100px;\"></img>"
   ]
  },
  {
   "cell_type": "markdown",
   "metadata": {},
   "source": [
    "<h2 style=\"align: center;\">MO !</h2>\n",
    "\n",
    "<p>Business intelligence, and data science, are integral positions. Analytics groups have the ability to work across business units to develop a unified understanding of: the internal operating environment, employee activity and engagement, and client activity (etc.). By harvesting this data, and reproducing it in a digestable and presentable format, the analytics function has the power to generate impactful insights that can educate teammates, accelerate sales, refine marketing activity, and, ultimately, generate revenue and profitability. \n",
    "\n",
    "This notebook contains alterable open-source code for automating tedious tasks: data cleaning, integrity, table transformation, and visualization. \n",
    "\n",
    "MO is: an ideal foundation for your AI projects and data science voyage; an introduction to operationalizing EDA (exploratory data analysis) with Python; a simple script that can do some heavy lifting. If you're keen, build on this code, make statements and loops resource-efficient, create a front-end interface, implement more advanced statistical methods - there are endless possibilities.\n",
    "\n",
    "While the script was designed to be run from the command-line, or powershell, the notebook allows us to highlight essential elements, and provide thorough documentation. The intention was to create a standard pipeline for any dataset, however, some of the code below is tailored to the test data. Recompile on your machine, and alter accordingly. \n",
    "\n",
    "Thorough analysis is a vital responsibility, so, hopefully you will find this helpful. \n",
    "\n",
    "This code is NOT my own - I explored a variety of resources to compile a script that worked for analytical tasks.</p>\n",
    "\n",
    "<p> If find this useful, please consider becoming a Patreon to support future efforts!</p>\n",
    "\n",
    "[Become a Patreon](\"https://www.patreon.com/think_elucidate\")\n",
    "\n",
    "----------------------------------------------------------------------------------------------------------------------------\n",
    "\n",
    "<p>*Working knowledge of Python is required.</p>\n",
    "<p>*Expect debugging.</p>\n",
    "<p>*This code was written on a Windows operating system.</p>\n",
    "\n",
    "----------------------------------------------------------------------------------------------------------------------------"
   ]
  },
  {
   "cell_type": "code",
   "execution_count": null,
   "metadata": {},
   "outputs": [],
   "source": [
    "# FIRST IMPORT THE NECESSARY MODULES AND PACKAGES.\n",
    "from ipypublish import nb_setup\n",
    "from IPython.display import display, HTML\n",
    "\n",
    "import pandas as pd\n",
    "import pandas_profiling\n",
    "import sklearn as skl\n",
    "import numpy as np\n",
    "import pprint as pp\n",
    "import os, sys, shutil, pathlib\n",
    "from pathlib import Path\n",
    "import time\n",
    "#import sqlite3\n",
    "from datetime import datetime, timedelta\n",
    "import xml.etree.ElementTree as ET\n",
    "import json\n",
    "import matplotlib\n",
    "import matplotlib.pyplot as plt\n",
    "import seaborn as sns\n",
    "import scipy\n",
    "from scipy import stats\n",
    "import pprint as pp\n",
    "\n",
    "# PLOTLY IS MY PREFERRED VISUALIZATION LIBRARY, SO WE WILL IMPORT THOSE MODULES\n",
    "# AS WELL. \n",
    "import plotly\n",
    "import plotly.graph_objects as go\n",
    "import plotly.express as px\n",
    "import chart_studio.plotly as py"
   ]
  },
  {
   "cell_type": "markdown",
   "metadata": {},
   "source": [
    "Depending on the task at hand, automatically reading a file from a specified directory may not be necessary. However, creating a designated workspace is, so,\n",
    "\n",
    "The code below allows you to:\n",
    "    - Set the working directory.\n",
    "    - Set the path to the working file.\n",
    "    - Read the file into memory based on the file extension.\n",
    "    \n",
    "For illustrative purposes, these lines are commented out, and we will read the test data from the github repository."
   ]
  },
  {
   "cell_type": "code",
   "execution_count": null,
   "metadata": {},
   "outputs": [],
   "source": [
    "# LET'S SET THE WORKING-DIRECTORY / WORKSPACE\n",
    "\n",
    "#print(\"The current working directory is: \", os.getcwd(), '\\n')\n",
    "# you can enter the path without quotations or // separation\n",
    "#path = input(\"Please enter the path to the desired directory: \")\n",
    "#os.chdir(path)\n",
    "#file_location = input(\"Please enter the file location: \")\n",
    "#file_location = str(file_location)"
   ]
  },
  {
   "cell_type": "code",
   "execution_count": null,
   "metadata": {},
   "outputs": [],
   "source": [
    "# READ THE DATA INTO MEMORY DEPENDING ON THE FILE EXTENSION\n",
    "# --------------------------------------------------------------------------\n",
    "# BASED ON MY EXPERIENCE, THE MAJORITY WILL BE READING FROM EXCEL WORKBOOKS,\n",
    "# SO ALTERNATE METHODS ARE COMMENTED OUT, AND EXCLUDED.\n",
    "# ---------------------------------------------------------------------------\n",
    "\n",
    "#file_name, file_extension = os.path.splitext(file_location)\n",
    "#if file_extension == '.csv':\n",
    "#    data = pd.read_csv(file_location, encoding = 'iso-8859-1')\n",
    "#elif file_extension == '.xls' or '.xlsx':\n",
    "#    data = pd.read_excel(file_location)\n",
    "\n",
    "#tree = ET.parse(file_location)\n",
    "#root = tree.getroot()\n",
    "\n",
    "#con = sqlite3.connect(file_location)\n",
    "#data = pd.read_sql_query(\"SELECT * FROM Data;\", con)\n",
    "#con.close()\n",
    "\n",
    "data = pd.read_csv(\"test_data\\who-covid-situation-reports.csv\")\n",
    "\n",
    "print('\\n', '~~~ File Loaded !! ~~~', '\\n')"
   ]
  },
  {
   "cell_type": "markdown",
   "metadata": {},
   "source": [
    "Exploratory Data Analysis (EDA) is critical to understand what you are working with on a deeper level. \n",
    "\n",
    "Pandas Profile Report is an exemplary module that provides you with a comprehensive report of variables, data types, null values, as well as an interaction visual and correlation matrix."
   ]
  },
  {
   "cell_type": "code",
   "execution_count": null,
   "metadata": {},
   "outputs": [],
   "source": [
    "# ------------------------------------------------------------------------\n",
    "# PROCESSING AND DUE DILIGENCE\n",
    "# ------------------------------------------------------------------------\n",
    "profile = data.profile_report(title='Pandas Profile Report')\n",
    "profile.to_notebook_iframe()\n",
    "\n",
    "# THE PROFILE CAN ALSO BE SAVED AS AN INTERACTIVE HTML FILE\n",
    "profile.to_file(\"profile.html\")\n",
    "        \n",
    "df_length = data.shape[0]\n",
    "\n",
    "# AFTER EXPLORING THE DATA, WE CAN HANDLE SOME OF THE QUESTION MARKS\n",
    "nulls = data.isnull().sum()\n",
    "nulls = nulls.to_dict()\n",
    "to_drop = []\n",
    "\n",
    "for k, v in nulls.items():\n",
    "    # THE STATEMENT BELOW CAN BE ALTERED TO (v/df_length >= 0.8), OR AN ALTERNATE LOGICAL THRESHOLD\n",
    "    if (v == df_length):\n",
    "        to_drop.append(k)\n",
    "data.drop(to_drop, axis=1, inplace=True)\n",
    "data.drop_duplicates(keep='first', inplace=True)\n",
    "\n",
    "print(\"AFTER DROPPING EGREGIOUSLY NULL COLUMNS, AND HANDLING DUPLICATE OBSERVATIONS; THE SHAPE OF THE DATAFRAME IS:\")   \n",
    "display(data.shape)\n",
    "print('\\n')"
   ]
  },
  {
   "cell_type": "code",
   "execution_count": null,
   "metadata": {},
   "outputs": [],
   "source": [
    "# -------------------------------------------------------\n",
    "# SUBSETTING THE MAIN DATAFRAME BY VARIABLES' DATA TYPES\n",
    "# -------------------------------------------------------\n",
    "\n",
    "# INITIALIZING POSITIONAL INDEXES FOR THE DATAFRAME\n",
    "shape = data.shape\n",
    "obs_num = int(shape[0])\n",
    "var_num = int(shape[1])\n",
    "display(data.dtypes)\n",
    "print('\\n')\n",
    "\n",
    "# CREATING DTYPE SUBSETS\n",
    "numerics = data.select_dtypes(include=['float64']).copy()\n",
    "integers = data.select_dtypes(include=['int64']).copy()\n",
    "dates = data.select_dtypes(include=['datetime64[ns]']).copy()\n",
    "objects = data.select_dtypes(include=['object']).copy()\n",
    "booleans = data.select_dtypes(include=['bool']).copy()\n",
    "\n",
    "# FILLING NULL NUMERIC VALUES\n",
    "if len(numerics.columns.values) > 0:\n",
    "    numerics.fillna(value=0.0, inplace=True)\n",
    "elif len(numerics.columns.values) == 0:\n",
    "    exit\n",
    "# FILLING NULL INTEGER VALUES    \n",
    "if len(integers.columns.values) > 0:\n",
    "    integers.fillna(value=0, inplace=True)\n",
    "elif len(integers.columns.values) == 0:\n",
    "    exit\n",
    "    \n",
    "# COMBINING NUMERIC(FLOAT) AND INTEGER VARIABLES INTO A COMBINED 'NUMBER' DF\n",
    "numbers = pd.concat([numerics, integers], axis=1, sort=False)\n",
    "\n",
    "# PRINTING COUNTS ASSOCIATED WITH OBJECTS AND CATEGORIES  \n",
    "#for column in objects.columns:\n",
    "#    display(objects[column].value_counts())\n",
    "#    print('\\n')\n",
    "\n",
    "# CREATING CODES FOR OBJECT AND CATEGORY VARIABLES - USEFUL FOR STRING OPERATIONS\n",
    "for obj in objects.columns:\n",
    "    colName = str(obj) + 'code'\n",
    "    objects[obj] = objects[obj].astype('category')\n",
    "    objects[colName] = objects[obj].cat.codes"
   ]
  },
  {
   "cell_type": "code",
   "execution_count": null,
   "metadata": {},
   "outputs": [],
   "source": [
    "# CREATING ALTERNATE SUBSETS OF THE PRIMARY DATAFRAME BASED ON SPECIFIC VARIABLES (EX. DATES OR CATEGORIES)\n",
    "# THIS CODE SHOULD BE CLEANED UP - THE SYNTAX CURRENTLY ONLY ALLOWS FOUR FILTER-VARIABLES.\n",
    "\n",
    "variables = list(data.columns.values)\n",
    "\n",
    "print(variables, '\\n')\n",
    "\n",
    "print('DO YOU NEED TO FILTER BY SPECIFIC VARIABLES?')\n",
    "confirmation = input('ENTER y or n: ')\n",
    "filters = input('ENTER THE VARIABLES AS A COMMA SEPARATED LIST: ')\n",
    "# SPLITTING THE VARIABLE LIST BY COMMAS\n",
    "# STRIPPING POSSIBLE WHITE SPACE BETWEEN LIST ELEMENTS\n",
    "filter_list = [x.strip() for x in filters.split(',')]\n",
    "\n",
    "additional_var_num = len(filter_list)\n",
    "additional_var_num = int(additional_var_num)\n",
    "\n",
    "# SELECTING THE ARITHMETIC GROUPING METHOD\n",
    "grouping_method = input('HOW DO YOU WANT TO CONSOLIDATE THE DATA - SUM OR AVERAGE? ')\n",
    "\n",
    "\n",
    "\n",
    "if (confirmation == 'y') and (grouping_method == 'sum' or 'SUM' or 'Sum'):\n",
    "    # CREATING ALTERNATE DATAFRAMES AROUND EACH OF THE SPECIFIED COLUMNS\n",
    "    for var in filter_list:\n",
    "        var = str(var)\n",
    "        data_b = pd.DataFrame(data=data.groupby(by=[filter_list[0]], as_index=False).sum())\n",
    "        filter_list.remove(var)\n",
    "    for var in filter_list:\n",
    "        length = len(filter_list)\n",
    "        data_c = pd.DataFrame(data=data.groupby(by=[filter_list[0]], as_index=False).sum())\n",
    "        filter_list.remove(var)\n",
    "        if len(filter_list) > 0:\n",
    "            for var in filter_list:\n",
    "                data_d = pd.DataFrame(data=data.groupby(by=[filter_list[0]], as_index=False).sum())\n",
    "                filter_list.remove(var)\n",
    "            for var in filter_list:\n",
    "                data_e = pd.DataFrame(data=data.groupby(by=[filter_list[0]], as_index=False).sum())\n",
    "                filter_list.remove(var)\n",
    "        elif len(filter_list) == 0:\n",
    "            break\n",
    "    if (confirmation == 'y') and grouping_method == 'average' or 'AVERAGE' or 'Average':\n",
    "        for var in filter_list:\n",
    "            var = str(var)\n",
    "            data_b = pd.DataFrame(data=data.groupby(by=[filter_list[0]], as_index=False).mean())\n",
    "            filter_list.remove(var)\n",
    "        for var in filter_list:\n",
    "            length = len(filter_list)\n",
    "            data_c = pd.DataFrame(data=data.groupby(by=[filter_list[0]], as_index=False).mean())\n",
    "            filter_list.remove(var)\n",
    "            if len(filter_list) > 0:\n",
    "                for var in filter_list:\n",
    "                    data_d = pd.DataFrame(data=data.groupby(by=[filter_list[0]], as_index=False).mean())\n",
    "                    filter_list.remove(var)\n",
    "                for var in filter_list:\n",
    "                    data_e = pd.DataFrame(data=data.groupby(by=[filter_list[0]], as_index=False).mean())\n",
    "                    filter_list.remove(var)\n",
    "            elif len(filter_list) == 0:\n",
    "                break\n",
    "                \n",
    "elif confirmation == 'n':\n",
    "    exit()\n",
    "    \n",
    "# PRINTING THE HEAD OF THE ALTERNATE DATAFRAMES\n",
    "if additional_var_num == 1:\n",
    "    print('\\n', 'data_b')\n",
    "    display(data_b.head())\n",
    "elif additional_var_num <= 2:\n",
    "    print('\\n', 'data_b')\n",
    "    display(data_b.head())\n",
    "    print('\\n', 'data_c')\n",
    "    display(data_c.head())\n",
    "elif additional_var_num <= 3:\n",
    "    print('\\n', 'data_b')\n",
    "    display(data_b.head())\n",
    "    print('\\n', 'data_c')\n",
    "    display(data_c.head())\n",
    "    print('\\n', 'data_d')\n",
    "    display(data_d.head())\n",
    "elif additional_var_num <= 4:\n",
    "    print('\\n', 'data_b')\n",
    "    display(data_b.head())\n",
    "    print('\\n', 'data_c')\n",
    "    display(data_c.head())\n",
    "    print('\\n', 'data_d')\n",
    "    display(data_d.head())\n",
    "    print('\\n', 'data_e')\n",
    "    display(data_e.head())"
   ]
  },
  {
   "cell_type": "markdown",
   "metadata": {},
   "source": [
    "Typically, unique identifiers link entities across complex datasets. This is especially relevant to financial services, where various clients are linked to specific funds, holdings/securities, and other clients. With that said, unique IDs are used across industries: supply chains,retail, merchandising, broad tech, etc.\n",
    "\n",
    "The code below extracts naming conventions for clients, and the associated unique identifiers, and creates aligned observations of each unique identifier related to a specific client. The code would need to be altered depending on the dataset.\n",
    "\n",
    "This is certainly not relevant to every data science position, so the code will be commented out; however, if you need it..."
   ]
  },
  {
   "cell_type": "code",
   "execution_count": null,
   "metadata": {},
   "outputs": [],
   "source": [
    "# -------------------------------------------------------------------\n",
    "# Extracting columns that contain unique identifiers\n",
    "# -------------------------------------------------------------------\n",
    "\n",
    "#identifiers = list(variables[variables.str.contains('ID') == True])\n",
    "#identifiers_o = list(variables[variables.str.contains('id') == True])\n",
    "#identifiers_t = list(variables[variables.str.contains('Id') == True])\n",
    "#identifiers_th = list(variables[variables.str.contains('i.d.') == True])\n",
    "#identifiers_f = list(variables[variables.str.contains('I.D.') == True])\n",
    "#client_naming = list(variables[variables.str.contains('name') == True])\n",
    "#client_naming_alt = list(variables[variables.str.contains('client') == True])\n",
    "#client_naming_altO = list(variables[variables.str.contains('Client') == True])\n",
    "#client_naming_altT = list(variables[variables.str.contains('CLIENT') == True])\n",
    "\n",
    "#mapping_cols = [identifiers, identifiers_o, identifiers_t, identifiers_th, identifiers_f, \n",
    "#                client_naming, client_naming_alt, client_naming_altO, client_naming_altT,]\n",
    "\n",
    "#mapping_fields = []\n",
    "\n",
    "#for col in mapping_cols:\n",
    "#    if len(col) > 0:\n",
    "#        mapping_fields.append(col); \n",
    "\n",
    "#identifiers = []\n",
    "\n",
    "#for identifier in mapping_fields:\n",
    "#    identifiers.append(identifier);\n",
    "\n",
    "#vector_list = []\n",
    "\n",
    "#for identifier in identifiers:\n",
    "#    series = data[identifier]\n",
    "#    vector_list.append(series)\n",
    "\n",
    "#identifying_data = pd.concat(objs=vector_list, axis=1)\n",
    "#print(identifying_data.head(), '\\n')\n",
    "        \n",
    "\n",
    "#historical_mapping = pd.read_excel('H:\\\\Application_Data\\\\MAIN\\\\mapping\\\\identifier_archive\\\\mapping.xlsx', header=0)\n",
    "\n",
    "#mapping_zip = pd.merge(left=historical_mapping, right=identifying_data, left_on='Client Code', right_on='')\n",
    "\n",
    "\n",
    "# HERE WE ARE SAVING THE MAPPING FILE TO A SPECIFIC DRIVE, AS AN EXCEL FILE. \n",
    "\n",
    "#with pd.ExcelWriter('H:\\\\Application_Data\\\\MAIN\\\\mapping\\\\identifier_archive\\\\mapping.xlsx') as writer:  # doctest: +SKIP\n",
    "#     mapping_zip.to_excel(writer, sheet_name='Sheet_name_1', index=False)"
   ]
  },
  {
   "cell_type": "markdown",
   "metadata": {},
   "source": [
    "Visualization is an important part of data science. Graphs can elucidate the relationships between variables and uncover trends, which often leads to trajectory-altering decisions.\n",
    "\n",
    "The code below contains simple loops that allow you to quickly produce charts for the columns (/series) of a particular dataset.  \n",
    "\n",
    "These functions produce 'bare-bones' charts. Plotly and Matplotlib have the ability to produce beautiful visualizations - \n",
    "\n",
    "Plotly Documentation\n",
    "https://plotly.com/python/\n",
    "\n",
    "Matplotlib Documentation\n",
    "https://matplotlib.org/"
   ]
  },
  {
   "cell_type": "code",
   "execution_count": null,
   "metadata": {},
   "outputs": [],
   "source": [
    "# THE FUNCTION BELOW PLOTS HISTOGRAMS (/ PROBABILITY DENSITY FUNCTIONS) FOR NUMBERIC AND INTEGER VARIABLES.\n",
    "# \n",
    "# THE OUTPUT IS A GAUSSIAN NORMAL DISTRIBUTION USING ACCURATE CALCULATIONS OF AVERAGE AND STANDARD DEVIATION.\n",
    "# -------------------------------------------------------------------------------------------------------------\n",
    "\n",
    "def gauss_dist(x):\n",
    "    # The input is/should be a series\n",
    "    # Set the style \n",
    "    sns.set(style='darkgrid')\n",
    "\n",
    "    # Define the measures\n",
    "\n",
    "    average = x.mean()\n",
    "    standardDev = x.std()\n",
    "\n",
    "    s = np.random.normal(average, standardDev, 1000)\n",
    "    bins = 30\n",
    "    plt.hist(s, 30)\n",
    "    plt.plot(bins, 1/(standardDev * np.sqrt(2 * np.pi)) *\n",
    "             np.exp( - (bins - average)**2 / (2 * standardDev**2)),\n",
    "             linewidth=2, color='r')\n",
    "\n",
    "    plt.title(str(x.name))\n",
    "\n",
    "    plt.show()\n",
    "    \n",
    "    \n",
    "# -----------------------------------------------------------------------------------------------       \n",
    "# CALLING THE GAUSSIAN DISTRIBUTION FUNCTION ON THE SUBSET OF 'NUMBER' VARIABLES\n",
    "# -----------------------------------------------------------------------------------------------\n",
    "\n",
    "if len(numbers.columns.values) > 0:\n",
    "    for column in numbers:\n",
    "        viz_data = pd.Series(data=numbers[column], index=None)\n",
    "        if viz_data.isnull().sum() == len(viz_data):\n",
    "            break\n",
    "        elif viz_data.isnull().sum() != len(viz_data):\n",
    "            gauss_dist(viz_data);\n",
    "        elif len(numbers.columns.values) == 0:\n",
    "            break"
   ]
  },
  {
   "cell_type": "code",
   "execution_count": null,
   "metadata": {},
   "outputs": [],
   "source": [
    "# SEABORN (SNS) PROVIDES A VERY GOOD PREBUILT DISTRIBUTION PLOT FUNCTION\n",
    "#\n",
    "# THE FUNCTION BELOW PRODUCES A UNIVARIATE DISTRIBUTION\n",
    "# -------------------------------------------------------------------------\n",
    "\n",
    "def sns_dist(x):\n",
    "    sns.set(color_codes=True)\n",
    "    sns.distplot(x)\n",
    "    plt.show()\n",
    "    \n",
    "# THE FUNCTION BELOW PRODUCES AN ALTERNATE HISTOGRAM WITH A RUG CHART USING THE SEABORN LIBRARY\n",
    "\n",
    "def sns_hist(x):\n",
    "    sns.set(color_codes=True)\n",
    "    sns.distplot(x, kde=False, rug=True)\n",
    "    plt.show()\n",
    "    \n",
    "# -----------------------------------------------------------------------------------------------       \n",
    "# CALLING THE SNS DISTRIBUTION FUNCTION ON THE SUBSET OF 'NUMBER' VARIABLES\n",
    "# -----------------------------------------------------------------------------------------------\n",
    "\n",
    "if len(numbers.columns.values) > 0:\n",
    "    for column in numbers:\n",
    "        viz_data = pd.Series(data=numbers[column], index=None)\n",
    "        if viz_data.isnull().sum() == len(viz_data):\n",
    "            break\n",
    "        elif viz_data.isnull().sum() != len(viz_data):\n",
    "            sns_dist(viz_data);\n",
    "        elif len(numbers.columns.values) == 0:\n",
    "            break\n",
    "            \n",
    "if len(numbers.columns.values) > 0:\n",
    "    for column in numbers:\n",
    "        viz_data = pd.Series(data=numbers[column], index=None)\n",
    "        if viz_data.isnull().sum() == len(viz_data):\n",
    "            break\n",
    "        elif viz_data.isnull().sum() != len(viz_data):\n",
    "            sns_hist(viz_data);\n",
    "        elif len(numbers.columns.values) == 0:\n",
    "            break"
   ]
  },
  {
   "cell_type": "code",
   "execution_count": null,
   "metadata": {},
   "outputs": [],
   "source": [
    "# CONTINUOUS, AND DISCRETE VARIABLES, TYPICALLY DEVIATE ACROSS TIME.\n",
    "# THIS FUNCTION PLOTS A SPECIFIED y VARIABLE AGAINST A SPECIFIED x VARIABLE (USUALLY DATE/TIME).\n",
    "# WE CALCULATE THE STANDARD DEVIATION AND CREATE UPPER AND LOWER BOUNDS OF VARIANCE.\n",
    "# ---------------------------------------------------------------------------------------------\n",
    "\n",
    "def deviation_plot (data):\n",
    "    \n",
    "    print(data.columns.values)\n",
    "\n",
    "    x_label = input('Enter the x-axis variable: ')\n",
    "    y_label = input('Enter the y-axis variable: ')\n",
    "\n",
    "    x = data[x_label]\n",
    "    y = data[y_label]\n",
    "\n",
    "    y_dev = y.std()\n",
    "\n",
    "\n",
    "    upper_bound = go.Scatter(\n",
    "        name='Upper Bound',\n",
    "        x=x,\n",
    "        y=y+y_dev,\n",
    "        mode='lines',\n",
    "        marker=dict(color=\"#444\"),\n",
    "        line=dict(width=0),\n",
    "        fillcolor='rgba(68, 68, 68, 0.3)',\n",
    "        fill='tonexty')\n",
    "\n",
    "    trace = go.Scatter(\n",
    "        name='Trend',\n",
    "        x=x,\n",
    "        y=y,\n",
    "        mode='lines',\n",
    "        line=dict(color='rgb(31, 119, 180)'),\n",
    "        fillcolor='rgba(68, 68, 68, 0.3)',\n",
    "        fill='tonexty')\n",
    "\n",
    "    lower_bound = go.Scatter(\n",
    "        name='Lower Bound',\n",
    "        x=x,\n",
    "        y=y-y_dev,\n",
    "        marker=dict(color=\"#444\"),\n",
    "        line=dict(width=0),\n",
    "        mode='lines')\n",
    "\n",
    "    # Trace order can be important\n",
    "    # with continuous error bars\n",
    "    data = [lower_bound, trace, upper_bound]\n",
    "\n",
    "    layout = go.Layout(\n",
    "        yaxis=dict(title=str(y_label)),\n",
    "        title=(str(y_label)+' '+'against'+' '+str(x_label)),\n",
    "        showlegend = False)\n",
    "\n",
    "    fig = go.Figure(data=data, layout=layout)\n",
    "    #py.iplot(fig, filename='pandas-continuous-error-bars')\n",
    "    fig.show()\n",
    "    \n",
    "\n",
    "# CALLING THE FUNCTION ON THE DATE SUBSET (data_b)\n",
    "deviation_plot(data_b)"
   ]
  },
  {
   "cell_type": "code",
   "execution_count": null,
   "metadata": {},
   "outputs": [],
   "source": [
    "# THE RELATIONSHIP BETWEEN BINARY VARIABLES LIKE SEX (M/F), AND OTHER CATEGORICAL VARIABLES, CAN USUALLY BE\n",
    "# CLEARLY ILLUSTRATED BY PLOTTING A HORIZONTAL BAR CHART. USING THE y-AXIS FOR THESE VARIABLES IS OFTEN IDEAL.\n",
    "#\n",
    "# USING THE TEST DATA ONE MIGHT LIKE TO COMPARE TOTAL DEATHS TO TOTAL CASES ACROSS LOCATIONS. THE FUNCTION BELOW\n",
    "# WAS CRAFTED TO DO SO. \n",
    "# ---------------------------------------------------------------------------------------------------------------\n",
    "\n",
    "def horizontal_bar (data):\n",
    "    \n",
    "    print(data.columns.values)\n",
    "    \n",
    "    x_label = input('Enter the x variable: ')\n",
    "    xt_label = input('Enter a comparative x variable: ')\n",
    "    y_label = input('Enter the y variable: ')\n",
    "\n",
    "    x = data[x_label]\n",
    "    xt = data[xt_label]\n",
    "    y = data[y_label]\n",
    "    \n",
    "    fig = go.Figure()\n",
    "    fig.add_trace(go.Bar(\n",
    "        y=y,\n",
    "        x=x,\n",
    "        name=(str(x_label)),\n",
    "        orientation='h',\n",
    "        marker=dict(\n",
    "            color='rgba(246, 78, 139, 0.6)',\n",
    "            line=dict(color='rgba(246, 78, 139, 1.0)')\n",
    "        )\n",
    "    ))\n",
    "    fig.add_trace(go.Bar(\n",
    "        y=y,\n",
    "        x=xt,\n",
    "        name=(str(xt_label)),\n",
    "        orientation='h',\n",
    "        marker=dict(\n",
    "            color='rgba(58, 71, 80, 0.6)',\n",
    "            line=dict(color='rgba(58, 71, 80, 1.0)')\n",
    "        )\n",
    "    ))\n",
    "\n",
    "    fig.update_layout(barmode='stack')\n",
    "    fig.show()\n",
    "    \n",
    "    \n",
    "    \n",
    "# CALLING THE FUNCTION ON THE LOCATION SUBSET (data_c)\n",
    "horizontal_bar(data_c)\n",
    "\n",
    "# --------------------------------------------------------------------------------------\n",
    "# AS MENTIONED, EXCEPTIONAL ANALYTICAL WORK REQUIRES REWORKING AND RESHAPING THE DATA\n",
    "# \n",
    "# AS YOU CAN SEE, THE FIRST PLOT IS VERY CROWDED. CERTAIN COUNTRIES HAVE BEEN AFFECTED BY \n",
    "# COVID MORE THAN OTHERS. WE WILL SUBSET 'data_c' BASED ON THE AVERAGES OF EACH VARIABLE\n",
    "\n",
    "ncase_mean = np.mean(data_c['new_cases'])\n",
    "ndeath_mean = np.mean(data_c['new_deaths'])\n",
    "tcase_mean = np.mean(data_c['total_cases'])\n",
    "tdeath_mean = np.mean(data_c['total_deaths'])\n",
    "\n",
    "# THERE ARE MORE EFFICIENT WAYS TO DO THIS - USING FEWER LINES OF CODE - \n",
    "# BUT, IF YOU ARE UNFAMILIAR, SEEING THE INDIVIDUAL FUNCTIONS IN ACTION WILL HELP\n",
    "\n",
    "new_cases = data_c[data_c['new_cases']>=ncase_mean]\n",
    "new_cases = new_cases.drop(labels=['new_deaths', 'total_cases', 'total_deaths'], axis=1)\n",
    "\n",
    "new_deaths = data_c[data_c['new_deaths']>=ndeath_mean]\n",
    "new_deaths = new_deaths.drop(labels=['new_cases', 'total_cases', 'total_deaths'], axis=1)\n",
    "\n",
    "total_cases = data_c[data_c['total_cases']>=tcase_mean]\n",
    "total_cases = total_cases.drop(labels=['new_cases', 'new_deaths','total_deaths'], axis=1)\n",
    "\n",
    "total_deaths = data_c[data_c['total_deaths']>=tdeath_mean]\n",
    "total_deaths = total_deaths.drop(labels=['new_cases', 'new_deaths','total_cases'], axis=1)\n",
    "\n",
    "# EACH OF THESE DATAFRAMES WERE FILTERED BASED ON THE SPECIFIC AVERAGE\n",
    "# THE OTHER COLUMNS WERE DROPPED. \n",
    "# NOW, WE WILL MERGE THEM BACK TOGETHER USING TWO DIFFERENT JOIN-TYPES - INNER AND OUTER\n",
    "\n",
    "affected = new_cases.merge(new_deaths, how='inner', on='location')\n",
    "affected = affected.merge(total_cases, how='inner', on='location')\n",
    "affected = affected.merge(total_deaths, how='inner', on='location')\n",
    "\n",
    "affected_alt = new_cases.merge(new_deaths, how='outer', on='location')\n",
    "affected_alt = affected_alt.merge(total_cases, how='outer', on='location')\n",
    "affected_alt = affected_alt.merge(total_deaths, how='outer', on='location')\n",
    "\n",
    "affected_alt.fillna(method='bfill', inplace=True)\n",
    "\n",
    "print('THIS DATA SET ILLUSTRATES A SPECIFIC TIME PERIOD: ', data['date'].min(), '-', data['date'].max(), '\\n')\n",
    "\n",
    "# CALLING THE HORIZONTAL BAR VISUAL FUNCTION ON THE DATASETS OF 'HIGHLY AFFECTED COUNTRIES'\n",
    "\n",
    "horizontal_bar(affected)\n",
    "\n",
    "# VISIBLE INACCURACIES - BASED ON THE OUTER JOIN WHEN STACKING TOTAL_CASES & TOTAL_DEATHS\n",
    "horizontal_bar(affected_alt)\n"
   ]
  },
  {
   "cell_type": "code",
   "execution_count": null,
   "metadata": {},
   "outputs": [],
   "source": [
    "# THIS IS A USEFUL FUNCTION TO CREATE A SCATTER, REGRESSION PLOT, AND JOINTGRID\n",
    "# HOWEVER, BASED ON MY KNOWLEDGE, JOINTGRID WILL SOON BE DEPRECATED.\n",
    "\n",
    "def scatter_reg_plot (x, y):\n",
    "\n",
    "    # The two function inputs should be Series of the same length\n",
    "    x = pd.Series(data=x, index=None)\n",
    "    y = pd.Series(data=y, index=None)\n",
    "\n",
    "\n",
    "    sns.set(style='darkgrid', palette='deep')\n",
    "    \n",
    "    plt.scatter(x=x, y=y, marker='o', alpha=0.5)\n",
    "\n",
    "    plt.show()\n",
    "    \n",
    "    sns.regplot(x=x, y=y, marker=\"+\", data=data, ci=95)\n",
    "    \n",
    "    plt.show()\n",
    "\n",
    "    #R^2 FUNCTION\n",
    "    def r2(x, y):\n",
    "        return stats.pearsonr(x, y)[0] ** 2\n",
    "\n",
    "    sns.jointplot(x=x, y=y, kind=\"reg\", stat_func=r2)\n",
    "    plt.show()\n",
    "    \n",
    "    \n",
    "# CALLING THE FUNCTIONS USING TWO VARIABLES FROM THE 'NUMBERS' SUBSET\n",
    "scatter_reg_plot(numbers['total_deaths'], numbers['total_cases'])"
   ]
  },
  {
   "cell_type": "markdown",
   "metadata": {},
   "source": [
    "[Link to our Patreon Page](\"https://www.patreon.com/think_elucidate\")"
   ]
  },
  {
   "cell_type": "code",
   "execution_count": null,
   "metadata": {},
   "outputs": [],
   "source": [
    "from IPython.display import clear_output\n",
    "IPython.display.clear_output(wait=False)"
   ]
  }
 ],
 "metadata": {
  "kernelspec": {
   "display_name": "Python 3",
   "language": "python",
   "name": "python3"
  },
  "language_info": {
   "codemirror_mode": {
    "name": "ipython",
    "version": 3
   },
   "file_extension": ".py",
   "mimetype": "text/x-python",
   "name": "python",
   "nbconvert_exporter": "python",
   "pygments_lexer": "ipython3",
   "version": "3.6.10"
  },
  "widgets": {
   "application/vnd.jupyter.widget-state+json": {
    "state": {
     "05d6e6c2d9904dc28946cd5e37e96bfb": {
      "model_module": "@jupyter-widgets/controls",
      "model_module_version": "1.5.0",
      "model_name": "HBoxModel",
      "state": {
       "children": [
        "IPY_MODEL_fc9c43d3e48e47dabc9e0906bdb1ef62",
        "IPY_MODEL_b7bd5c63be214a91b25e4753722835b6"
       ],
       "layout": "IPY_MODEL_58ae5dd6c11a4f81bf6ddb8388ed79ca"
      }
     },
     "080f65442c3840ebb7fd71cc02d9adae": {
      "model_module": "@jupyter-widgets/controls",
      "model_module_version": "1.5.0",
      "model_name": "HTMLModel",
      "state": {
       "layout": "IPY_MODEL_b84b513937ea4dd1b38a47e05fc3b534",
       "style": "IPY_MODEL_fc4b8a86fdf14183bea05da5e4b80be8",
       "value": " 20/20 [01:13&lt;00:00,  3.67s/it, Completed]"
      }
     },
     "0c5c484c5af24b1fbad59eaa5b1c230b": {
      "model_module": "@jupyter-widgets/controls",
      "model_module_version": "1.5.0",
      "model_name": "FloatProgressModel",
      "state": {
       "bar_style": "success",
       "description": "Export report to file: 100%",
       "layout": "IPY_MODEL_2bd766b4659948ddbd1d80910201ea46",
       "max": 1,
       "style": "IPY_MODEL_9f606ffe86c7438a85cf94c69df2569a",
       "value": 1
      }
     },
     "0d224e60b0114a2e9da737303026bf9c": {
      "model_module": "@jupyter-widgets/controls",
      "model_module_version": "1.5.0",
      "model_name": "HBoxModel",
      "state": {
       "children": [
        "IPY_MODEL_9fe53613f3e243519ebe0a4243df8308",
        "IPY_MODEL_7ff9d1a7d47a4e2a92acab1f7eb3c8a4"
       ],
       "layout": "IPY_MODEL_0d73dc8155dd44aa88e1fe0a941818b2"
      }
     },
     "0d73dc8155dd44aa88e1fe0a941818b2": {
      "model_module": "@jupyter-widgets/base",
      "model_module_version": "1.2.0",
      "model_name": "LayoutModel",
      "state": {}
     },
     "17b9caba716843099c9b2e75bf95f95e": {
      "model_module": "@jupyter-widgets/controls",
      "model_module_version": "1.5.0",
      "model_name": "DescriptionStyleModel",
      "state": {
       "description_width": ""
      }
     },
     "1ca47323833e4f58b86540ee276bfcae": {
      "model_module": "@jupyter-widgets/base",
      "model_module_version": "1.2.0",
      "model_name": "LayoutModel",
      "state": {}
     },
     "1d1536af714e4436bec860a67490410a": {
      "model_module": "@jupyter-widgets/base",
      "model_module_version": "1.2.0",
      "model_name": "LayoutModel",
      "state": {}
     },
     "21da7d8ae2ad4cd4918592c50566a59c": {
      "model_module": "@jupyter-widgets/controls",
      "model_module_version": "1.5.0",
      "model_name": "HBoxModel",
      "state": {
       "children": [
        "IPY_MODEL_977cd607ea0447eeb2b2c94a7bee1a63",
        "IPY_MODEL_2d3963e0eded43349c0eb811fedf3bda"
       ],
       "layout": "IPY_MODEL_3a3abfc4227e4886b5e50c003cbb82c4"
      }
     },
     "2827bbd595a64d078d8357cf80f1fa67": {
      "model_module": "@jupyter-widgets/controls",
      "model_module_version": "1.5.0",
      "model_name": "HBoxModel",
      "state": {
       "children": [
        "IPY_MODEL_cc356fc10c774fca8348100ddc9af384",
        "IPY_MODEL_efce376c3fe0440d8c5f57419ab9fbbb"
       ],
       "layout": "IPY_MODEL_cdd4d09439d844b885baa7b4e18a808f"
      }
     },
     "2bd766b4659948ddbd1d80910201ea46": {
      "model_module": "@jupyter-widgets/base",
      "model_module_version": "1.2.0",
      "model_name": "LayoutModel",
      "state": {}
     },
     "2d3963e0eded43349c0eb811fedf3bda": {
      "model_module": "@jupyter-widgets/controls",
      "model_module_version": "1.5.0",
      "model_name": "HTMLModel",
      "state": {
       "layout": "IPY_MODEL_f9232067b8424314aaf69594b7a274d1",
       "style": "IPY_MODEL_caf02186b59b4255b65083cf4fc24e02",
       "value": " 1/1 [00:38&lt;00:00, 38.08s/it]"
      }
     },
     "3219e4cb30f24c9ba2f28dee02c6889a": {
      "model_module": "@jupyter-widgets/controls",
      "model_module_version": "1.5.0",
      "model_name": "HTMLModel",
      "state": {
       "layout": "IPY_MODEL_b5486abf3df3435891eb88b63894d490",
       "style": "IPY_MODEL_ec60d23f4ca046c4b6a21cb192573dc0",
       "value": " 1/1 [00:08&lt;00:00,  8.86s/it]"
      }
     },
     "346e736860444611ad81ab7153c06ae5": {
      "model_module": "@jupyter-widgets/controls",
      "model_module_version": "1.5.0",
      "model_name": "FloatProgressModel",
      "state": {
       "bar_style": "success",
       "description": "Render HTML: 100%",
       "layout": "IPY_MODEL_7b50aa44e1744ea39a14e54b9d371695",
       "max": 1,
       "style": "IPY_MODEL_bc3378d8ee224fd68335178344c12765",
       "value": 1
      }
     },
     "383906d4c8fd4cfb83a4dd0e6836c980": {
      "model_module": "@jupyter-widgets/base",
      "model_module_version": "1.2.0",
      "model_name": "LayoutModel",
      "state": {}
     },
     "3a3abfc4227e4886b5e50c003cbb82c4": {
      "model_module": "@jupyter-widgets/base",
      "model_module_version": "1.2.0",
      "model_name": "LayoutModel",
      "state": {}
     },
     "3b8664f196d64aa8aa0831f7352be1d4": {
      "model_module": "@jupyter-widgets/base",
      "model_module_version": "1.2.0",
      "model_name": "LayoutModel",
      "state": {}
     },
     "3f1108161c8d432d96dcbb234d3f9b76": {
      "model_module": "@jupyter-widgets/base",
      "model_module_version": "1.2.0",
      "model_name": "LayoutModel",
      "state": {}
     },
     "40065750056249218b7d0e7eb2c19546": {
      "model_module": "@jupyter-widgets/controls",
      "model_module_version": "1.5.0",
      "model_name": "ProgressStyleModel",
      "state": {
       "description_width": "initial"
      }
     },
     "40d8bed7314041179c89683b1a5ee303": {
      "model_module": "@jupyter-widgets/controls",
      "model_module_version": "1.5.0",
      "model_name": "ProgressStyleModel",
      "state": {
       "description_width": "initial"
      }
     },
     "41f372a6ad6142eca29186aa2d32fffa": {
      "model_module": "@jupyter-widgets/controls",
      "model_module_version": "1.5.0",
      "model_name": "ProgressStyleModel",
      "state": {
       "description_width": "initial"
      }
     },
     "42e3c6a992b5414db5339788ca5c35a2": {
      "model_module": "@jupyter-widgets/controls",
      "model_module_version": "1.5.0",
      "model_name": "DescriptionStyleModel",
      "state": {
       "description_width": ""
      }
     },
     "451b3a5cd23940d886563a6cd61a622a": {
      "model_module": "@jupyter-widgets/controls",
      "model_module_version": "1.5.0",
      "model_name": "ProgressStyleModel",
      "state": {
       "description_width": "initial"
      }
     },
     "4617febfa03a4cfa92ce72d2b9ca6925": {
      "model_module": "@jupyter-widgets/controls",
      "model_module_version": "1.5.0",
      "model_name": "HBoxModel",
      "state": {
       "children": [
        "IPY_MODEL_a8b4682d1e6340009588ef6f5110a631",
        "IPY_MODEL_c07b62ee197c47e49d8c44ce9ad41a53"
       ],
       "layout": "IPY_MODEL_5e943a83bd194a11b61d66b5ba5db2a1"
      }
     },
     "484593ddea014249bfdebab954de9729": {
      "model_module": "@jupyter-widgets/base",
      "model_module_version": "1.2.0",
      "model_name": "LayoutModel",
      "state": {}
     },
     "4a8d327621934121b55af9f0ef09a013": {
      "model_module": "@jupyter-widgets/controls",
      "model_module_version": "1.5.0",
      "model_name": "ProgressStyleModel",
      "state": {
       "description_width": "initial"
      }
     },
     "4bf1770dd9ea487fb26a9d7ccb54c217": {
      "model_module": "@jupyter-widgets/controls",
      "model_module_version": "1.5.0",
      "model_name": "FloatProgressModel",
      "state": {
       "bar_style": "success",
       "description": "Summarize dataset: 100%",
       "layout": "IPY_MODEL_eb52f66053b74651907999bc40df2516",
       "max": 20,
       "style": "IPY_MODEL_ded41919b29d48e3aa2c794564306431",
       "value": 20
      }
     },
     "4cd1eb7792a04b1caf42c61790ac11dd": {
      "model_module": "@jupyter-widgets/controls",
      "model_module_version": "1.5.0",
      "model_name": "FloatProgressModel",
      "state": {
       "bar_style": "success",
       "description": "Export report to file: 100%",
       "layout": "IPY_MODEL_ef245334012644c5aae84fb36ab36ea2",
       "max": 1,
       "style": "IPY_MODEL_40065750056249218b7d0e7eb2c19546",
       "value": 1
      }
     },
     "4cd8a7a52aa34053ae584ab3fb607eaf": {
      "model_module": "@jupyter-widgets/base",
      "model_module_version": "1.2.0",
      "model_name": "LayoutModel",
      "state": {}
     },
     "55655847b7674a0db3df0dc3e30a2568": {
      "model_module": "@jupyter-widgets/controls",
      "model_module_version": "1.5.0",
      "model_name": "FloatProgressModel",
      "state": {
       "bar_style": "success",
       "description": "Render HTML: 100%",
       "layout": "IPY_MODEL_3f1108161c8d432d96dcbb234d3f9b76",
       "max": 1,
       "style": "IPY_MODEL_9e3ed112aa9e46e6a51245d5fc7d952b",
       "value": 1
      }
     },
     "58ae5dd6c11a4f81bf6ddb8388ed79ca": {
      "model_module": "@jupyter-widgets/base",
      "model_module_version": "1.2.0",
      "model_name": "LayoutModel",
      "state": {}
     },
     "5aa0b11079e24ea6b77099795aaecf49": {
      "model_module": "@jupyter-widgets/controls",
      "model_module_version": "1.5.0",
      "model_name": "FloatProgressModel",
      "state": {
       "bar_style": "success",
       "description": "Summarize dataset: 100%",
       "layout": "IPY_MODEL_6f1f9439a72846dd815ed2d55f8a5c1f",
       "max": 20,
       "style": "IPY_MODEL_8ba237301bba4906a6ad81969219f217",
       "value": 20
      }
     },
     "5bbff5f8e6ba48818bf4853c43165568": {
      "model_module": "@jupyter-widgets/controls",
      "model_module_version": "1.5.0",
      "model_name": "DescriptionStyleModel",
      "state": {
       "description_width": ""
      }
     },
     "5e943a83bd194a11b61d66b5ba5db2a1": {
      "model_module": "@jupyter-widgets/base",
      "model_module_version": "1.2.0",
      "model_name": "LayoutModel",
      "state": {}
     },
     "5f17f48d94e24711936425da48bd329e": {
      "model_module": "@jupyter-widgets/controls",
      "model_module_version": "1.5.0",
      "model_name": "DescriptionStyleModel",
      "state": {
       "description_width": ""
      }
     },
     "61cc59d28cda477589b8d9af8be7b0ba": {
      "model_module": "@jupyter-widgets/controls",
      "model_module_version": "1.5.0",
      "model_name": "HBoxModel",
      "state": {
       "children": [
        "IPY_MODEL_5aa0b11079e24ea6b77099795aaecf49",
        "IPY_MODEL_080f65442c3840ebb7fd71cc02d9adae"
       ],
       "layout": "IPY_MODEL_1d1536af714e4436bec860a67490410a"
      }
     },
     "66395de25042491cb7f4f13abe239f96": {
      "model_module": "@jupyter-widgets/base",
      "model_module_version": "1.2.0",
      "model_name": "LayoutModel",
      "state": {}
     },
     "6c175d60bf464191a4445534ef371bcb": {
      "model_module": "@jupyter-widgets/controls",
      "model_module_version": "1.5.0",
      "model_name": "DescriptionStyleModel",
      "state": {
       "description_width": ""
      }
     },
     "6ca9a40aeecb427993deb9be19e5d5df": {
      "model_module": "@jupyter-widgets/base",
      "model_module_version": "1.2.0",
      "model_name": "LayoutModel",
      "state": {}
     },
     "6f1f9439a72846dd815ed2d55f8a5c1f": {
      "model_module": "@jupyter-widgets/base",
      "model_module_version": "1.2.0",
      "model_name": "LayoutModel",
      "state": {}
     },
     "7b50aa44e1744ea39a14e54b9d371695": {
      "model_module": "@jupyter-widgets/base",
      "model_module_version": "1.2.0",
      "model_name": "LayoutModel",
      "state": {}
     },
     "7c56508dd3b64367853b321cfaf0aad7": {
      "model_module": "@jupyter-widgets/controls",
      "model_module_version": "1.5.0",
      "model_name": "HBoxModel",
      "state": {
       "children": [
        "IPY_MODEL_55655847b7674a0db3df0dc3e30a2568",
        "IPY_MODEL_f3a2f75a6bce451c9c741cd07b4bab6b"
       ],
       "layout": "IPY_MODEL_3b8664f196d64aa8aa0831f7352be1d4"
      }
     },
     "7ff9d1a7d47a4e2a92acab1f7eb3c8a4": {
      "model_module": "@jupyter-widgets/controls",
      "model_module_version": "1.5.0",
      "model_name": "HTMLModel",
      "state": {
       "layout": "IPY_MODEL_88ad5116a7194d3eb4aec1716403d34e",
       "style": "IPY_MODEL_5f17f48d94e24711936425da48bd329e",
       "value": " 1/1 [00:51&lt;00:00, 51.71s/it]"
      }
     },
     "82b12ff50ae54d91a1af7ccff146dc66": {
      "model_module": "@jupyter-widgets/base",
      "model_module_version": "1.2.0",
      "model_name": "LayoutModel",
      "state": {}
     },
     "88ad5116a7194d3eb4aec1716403d34e": {
      "model_module": "@jupyter-widgets/base",
      "model_module_version": "1.2.0",
      "model_name": "LayoutModel",
      "state": {}
     },
     "88c45cbcc25d43c4bdf05235844db64a": {
      "model_module": "@jupyter-widgets/controls",
      "model_module_version": "1.5.0",
      "model_name": "FloatProgressModel",
      "state": {
       "bar_style": "success",
       "description": "Export report to file: 100%",
       "layout": "IPY_MODEL_e71c6863392a44d399308476bd314ea6",
       "max": 1,
       "style": "IPY_MODEL_a87bac023699431da147fcb85dfbb2dc",
       "value": 1
      }
     },
     "8b876ff6b718411baa7a2515baac534f": {
      "model_module": "@jupyter-widgets/base",
      "model_module_version": "1.2.0",
      "model_name": "LayoutModel",
      "state": {}
     },
     "8ba237301bba4906a6ad81969219f217": {
      "model_module": "@jupyter-widgets/controls",
      "model_module_version": "1.5.0",
      "model_name": "ProgressStyleModel",
      "state": {
       "description_width": "initial"
      }
     },
     "92549dd69d984348b1087a4d691cf23d": {
      "model_module": "@jupyter-widgets/controls",
      "model_module_version": "1.5.0",
      "model_name": "HBoxModel",
      "state": {
       "children": [
        "IPY_MODEL_88c45cbcc25d43c4bdf05235844db64a",
        "IPY_MODEL_d9cf3472a50246f08776fe3a477dc692"
       ],
       "layout": "IPY_MODEL_c17f70e4d4774df39ceac0be783253f9"
      }
     },
     "977cd607ea0447eeb2b2c94a7bee1a63": {
      "model_module": "@jupyter-widgets/controls",
      "model_module_version": "1.5.0",
      "model_name": "FloatProgressModel",
      "state": {
       "bar_style": "success",
       "description": "Generate report structure: 100%",
       "layout": "IPY_MODEL_a16dcee9a81b4e069a6137c3175c42c3",
       "max": 1,
       "style": "IPY_MODEL_4a8d327621934121b55af9f0ef09a013",
       "value": 1
      }
     },
     "9e3ed112aa9e46e6a51245d5fc7d952b": {
      "model_module": "@jupyter-widgets/controls",
      "model_module_version": "1.5.0",
      "model_name": "ProgressStyleModel",
      "state": {
       "description_width": "initial"
      }
     },
     "9f606ffe86c7438a85cf94c69df2569a": {
      "model_module": "@jupyter-widgets/controls",
      "model_module_version": "1.5.0",
      "model_name": "ProgressStyleModel",
      "state": {
       "description_width": "initial"
      }
     },
     "9fe53613f3e243519ebe0a4243df8308": {
      "model_module": "@jupyter-widgets/controls",
      "model_module_version": "1.5.0",
      "model_name": "FloatProgressModel",
      "state": {
       "bar_style": "success",
       "description": "Generate report structure: 100%",
       "layout": "IPY_MODEL_f5cc0be50dde4444968e42f64284ea77",
       "max": 1,
       "style": "IPY_MODEL_eccc59af5d814a46a3824a6b9c391c3b",
       "value": 1
      }
     },
     "9fec5be0dfa64b71ac9c91e84af2bd64": {
      "model_module": "@jupyter-widgets/controls",
      "model_module_version": "1.5.0",
      "model_name": "HTMLModel",
      "state": {
       "layout": "IPY_MODEL_484593ddea014249bfdebab954de9729",
       "style": "IPY_MODEL_5bbff5f8e6ba48818bf4853c43165568",
       "value": " 20/20 [01:08&lt;00:00,  3.44s/it, Completed]"
      }
     },
     "a16dcee9a81b4e069a6137c3175c42c3": {
      "model_module": "@jupyter-widgets/base",
      "model_module_version": "1.2.0",
      "model_name": "LayoutModel",
      "state": {}
     },
     "a87bac023699431da147fcb85dfbb2dc": {
      "model_module": "@jupyter-widgets/controls",
      "model_module_version": "1.5.0",
      "model_name": "ProgressStyleModel",
      "state": {
       "description_width": "initial"
      }
     },
     "a8b4682d1e6340009588ef6f5110a631": {
      "model_module": "@jupyter-widgets/controls",
      "model_module_version": "1.5.0",
      "model_name": "FloatProgressModel",
      "state": {
       "bar_style": "success",
       "description": "Render HTML: 100%",
       "layout": "IPY_MODEL_1ca47323833e4f58b86540ee276bfcae",
       "max": 1,
       "style": "IPY_MODEL_41f372a6ad6142eca29186aa2d32fffa",
       "value": 1
      }
     },
     "b2b45111c7d44979ad1edd7a2df0c154": {
      "model_module": "@jupyter-widgets/controls",
      "model_module_version": "1.5.0",
      "model_name": "HBoxModel",
      "state": {
       "children": [
        "IPY_MODEL_0c5c484c5af24b1fbad59eaa5b1c230b",
        "IPY_MODEL_c9c36bd52c3c4ccfa5c6ac61b017219c"
       ],
       "layout": "IPY_MODEL_d3b0fc3d75ff4bdf9addc7002669a4e4"
      }
     },
     "b34979c070594806a17a638932081201": {
      "model_module": "@jupyter-widgets/controls",
      "model_module_version": "1.5.0",
      "model_name": "DescriptionStyleModel",
      "state": {
       "description_width": ""
      }
     },
     "b5486abf3df3435891eb88b63894d490": {
      "model_module": "@jupyter-widgets/base",
      "model_module_version": "1.2.0",
      "model_name": "LayoutModel",
      "state": {}
     },
     "b7bd5c63be214a91b25e4753722835b6": {
      "model_module": "@jupyter-widgets/controls",
      "model_module_version": "1.5.0",
      "model_name": "HTMLModel",
      "state": {
       "layout": "IPY_MODEL_4cd8a7a52aa34053ae584ab3fb607eaf",
       "style": "IPY_MODEL_d532ee27dc2044358264813918604c25",
       "value": " 1/1 [01:09&lt;00:00, 69.36s/it]"
      }
     },
     "b84b513937ea4dd1b38a47e05fc3b534": {
      "model_module": "@jupyter-widgets/base",
      "model_module_version": "1.2.0",
      "model_name": "LayoutModel",
      "state": {}
     },
     "bc3378d8ee224fd68335178344c12765": {
      "model_module": "@jupyter-widgets/controls",
      "model_module_version": "1.5.0",
      "model_name": "ProgressStyleModel",
      "state": {
       "description_width": "initial"
      }
     },
     "bec94cbf393c4bf08de943f4016e4aca": {
      "model_module": "@jupyter-widgets/base",
      "model_module_version": "1.2.0",
      "model_name": "LayoutModel",
      "state": {}
     },
     "c07b62ee197c47e49d8c44ce9ad41a53": {
      "model_module": "@jupyter-widgets/controls",
      "model_module_version": "1.5.0",
      "model_name": "HTMLModel",
      "state": {
       "layout": "IPY_MODEL_66395de25042491cb7f4f13abe239f96",
       "style": "IPY_MODEL_42e3c6a992b5414db5339788ca5c35a2",
       "value": " 1/1 [00:09&lt;00:00,  9.90s/it]"
      }
     },
     "c17f70e4d4774df39ceac0be783253f9": {
      "model_module": "@jupyter-widgets/base",
      "model_module_version": "1.2.0",
      "model_name": "LayoutModel",
      "state": {}
     },
     "c1db84ff988a411bb2b86fdd2dd6a96a": {
      "model_module": "@jupyter-widgets/controls",
      "model_module_version": "1.5.0",
      "model_name": "DescriptionStyleModel",
      "state": {
       "description_width": ""
      }
     },
     "c55fdae7e992430193a5411bc8978038": {
      "model_module": "@jupyter-widgets/base",
      "model_module_version": "1.2.0",
      "model_name": "LayoutModel",
      "state": {}
     },
     "c9c36bd52c3c4ccfa5c6ac61b017219c": {
      "model_module": "@jupyter-widgets/controls",
      "model_module_version": "1.5.0",
      "model_name": "HTMLModel",
      "state": {
       "layout": "IPY_MODEL_eb94db90909c4b1f8633d6522b153879",
       "style": "IPY_MODEL_b34979c070594806a17a638932081201",
       "value": " 1/1 [00:11&lt;00:00, 11.17s/it]"
      }
     },
     "caf02186b59b4255b65083cf4fc24e02": {
      "model_module": "@jupyter-widgets/controls",
      "model_module_version": "1.5.0",
      "model_name": "DescriptionStyleModel",
      "state": {
       "description_width": ""
      }
     },
     "cc356fc10c774fca8348100ddc9af384": {
      "model_module": "@jupyter-widgets/controls",
      "model_module_version": "1.5.0",
      "model_name": "FloatProgressModel",
      "state": {
       "bar_style": "success",
       "description": "Summarize dataset: 100%",
       "layout": "IPY_MODEL_defa2e8c31b34db3b1fdc68cc68077f6",
       "max": 20,
       "style": "IPY_MODEL_451b3a5cd23940d886563a6cd61a622a",
       "value": 20
      }
     },
     "cdd4d09439d844b885baa7b4e18a808f": {
      "model_module": "@jupyter-widgets/base",
      "model_module_version": "1.2.0",
      "model_name": "LayoutModel",
      "state": {}
     },
     "d12a5a5854904da1b8e6313ac20962bd": {
      "model_module": "@jupyter-widgets/controls",
      "model_module_version": "1.5.0",
      "model_name": "HBoxModel",
      "state": {
       "children": [
        "IPY_MODEL_4bf1770dd9ea487fb26a9d7ccb54c217",
        "IPY_MODEL_9fec5be0dfa64b71ac9c91e84af2bd64"
       ],
       "layout": "IPY_MODEL_6ca9a40aeecb427993deb9be19e5d5df"
      }
     },
     "d3b0fc3d75ff4bdf9addc7002669a4e4": {
      "model_module": "@jupyter-widgets/base",
      "model_module_version": "1.2.0",
      "model_name": "LayoutModel",
      "state": {}
     },
     "d532ee27dc2044358264813918604c25": {
      "model_module": "@jupyter-widgets/controls",
      "model_module_version": "1.5.0",
      "model_name": "DescriptionStyleModel",
      "state": {
       "description_width": ""
      }
     },
     "d6db601f65ab483a9d7caa90c02942c3": {
      "model_module": "@jupyter-widgets/base",
      "model_module_version": "1.2.0",
      "model_name": "LayoutModel",
      "state": {}
     },
     "d9cf3472a50246f08776fe3a477dc692": {
      "model_module": "@jupyter-widgets/controls",
      "model_module_version": "1.5.0",
      "model_name": "HTMLModel",
      "state": {
       "layout": "IPY_MODEL_d6db601f65ab483a9d7caa90c02942c3",
       "style": "IPY_MODEL_e1278c40d7c6451db2bcf43f61ceb71a",
       "value": " 1/1 [00:38&lt;00:00, 38.28s/it]"
      }
     },
     "ded41919b29d48e3aa2c794564306431": {
      "model_module": "@jupyter-widgets/controls",
      "model_module_version": "1.5.0",
      "model_name": "ProgressStyleModel",
      "state": {
       "description_width": "initial"
      }
     },
     "defa2e8c31b34db3b1fdc68cc68077f6": {
      "model_module": "@jupyter-widgets/base",
      "model_module_version": "1.2.0",
      "model_name": "LayoutModel",
      "state": {}
     },
     "e1278c40d7c6451db2bcf43f61ceb71a": {
      "model_module": "@jupyter-widgets/controls",
      "model_module_version": "1.5.0",
      "model_name": "DescriptionStyleModel",
      "state": {
       "description_width": ""
      }
     },
     "e71c6863392a44d399308476bd314ea6": {
      "model_module": "@jupyter-widgets/base",
      "model_module_version": "1.2.0",
      "model_name": "LayoutModel",
      "state": {}
     },
     "eb52f66053b74651907999bc40df2516": {
      "model_module": "@jupyter-widgets/base",
      "model_module_version": "1.2.0",
      "model_name": "LayoutModel",
      "state": {}
     },
     "eb94db90909c4b1f8633d6522b153879": {
      "model_module": "@jupyter-widgets/base",
      "model_module_version": "1.2.0",
      "model_name": "LayoutModel",
      "state": {}
     },
     "ec60d23f4ca046c4b6a21cb192573dc0": {
      "model_module": "@jupyter-widgets/controls",
      "model_module_version": "1.5.0",
      "model_name": "DescriptionStyleModel",
      "state": {
       "description_width": ""
      }
     },
     "eccc59af5d814a46a3824a6b9c391c3b": {
      "model_module": "@jupyter-widgets/controls",
      "model_module_version": "1.5.0",
      "model_name": "ProgressStyleModel",
      "state": {
       "description_width": "initial"
      }
     },
     "ef245334012644c5aae84fb36ab36ea2": {
      "model_module": "@jupyter-widgets/base",
      "model_module_version": "1.2.0",
      "model_name": "LayoutModel",
      "state": {}
     },
     "efce376c3fe0440d8c5f57419ab9fbbb": {
      "model_module": "@jupyter-widgets/controls",
      "model_module_version": "1.5.0",
      "model_name": "HTMLModel",
      "state": {
       "layout": "IPY_MODEL_82b12ff50ae54d91a1af7ccff146dc66",
       "style": "IPY_MODEL_17b9caba716843099c9b2e75bf95f95e",
       "value": " 20/20 [00:42&lt;00:00,  2.10s/it, Completed]"
      }
     },
     "f34a2c4ffa0748d597de233dad4cec57": {
      "model_module": "@jupyter-widgets/controls",
      "model_module_version": "1.5.0",
      "model_name": "HTMLModel",
      "state": {
       "layout": "IPY_MODEL_383906d4c8fd4cfb83a4dd0e6836c980",
       "style": "IPY_MODEL_c1db84ff988a411bb2b86fdd2dd6a96a",
       "value": " 1/1 [00:12&lt;00:00, 12.17s/it]"
      }
     },
     "f3a2f75a6bce451c9c741cd07b4bab6b": {
      "model_module": "@jupyter-widgets/controls",
      "model_module_version": "1.5.0",
      "model_name": "HTMLModel",
      "state": {
       "layout": "IPY_MODEL_c55fdae7e992430193a5411bc8978038",
       "style": "IPY_MODEL_6c175d60bf464191a4445534ef371bcb",
       "value": " 1/1 [00:39&lt;00:00, 39.74s/it]"
      }
     },
     "f5cc0be50dde4444968e42f64284ea77": {
      "model_module": "@jupyter-widgets/base",
      "model_module_version": "1.2.0",
      "model_name": "LayoutModel",
      "state": {}
     },
     "f6359c9859654f239790f094f843364f": {
      "model_module": "@jupyter-widgets/controls",
      "model_module_version": "1.5.0",
      "model_name": "HBoxModel",
      "state": {
       "children": [
        "IPY_MODEL_346e736860444611ad81ab7153c06ae5",
        "IPY_MODEL_f34a2c4ffa0748d597de233dad4cec57"
       ],
       "layout": "IPY_MODEL_ff8e2bbe0c3b4d71b2ee156b5eba169f"
      }
     },
     "f9232067b8424314aaf69594b7a274d1": {
      "model_module": "@jupyter-widgets/base",
      "model_module_version": "1.2.0",
      "model_name": "LayoutModel",
      "state": {}
     },
     "fc4b8a86fdf14183bea05da5e4b80be8": {
      "model_module": "@jupyter-widgets/controls",
      "model_module_version": "1.5.0",
      "model_name": "DescriptionStyleModel",
      "state": {
       "description_width": ""
      }
     },
     "fc9c43d3e48e47dabc9e0906bdb1ef62": {
      "model_module": "@jupyter-widgets/controls",
      "model_module_version": "1.5.0",
      "model_name": "FloatProgressModel",
      "state": {
       "bar_style": "success",
       "description": "Generate report structure: 100%",
       "layout": "IPY_MODEL_8b876ff6b718411baa7a2515baac534f",
       "max": 1,
       "style": "IPY_MODEL_40d8bed7314041179c89683b1a5ee303",
       "value": 1
      }
     },
     "feea671490c34ca8a30f0c1668220b07": {
      "model_module": "@jupyter-widgets/controls",
      "model_module_version": "1.5.0",
      "model_name": "HBoxModel",
      "state": {
       "children": [
        "IPY_MODEL_4cd1eb7792a04b1caf42c61790ac11dd",
        "IPY_MODEL_3219e4cb30f24c9ba2f28dee02c6889a"
       ],
       "layout": "IPY_MODEL_bec94cbf393c4bf08de943f4016e4aca"
      }
     },
     "ff8e2bbe0c3b4d71b2ee156b5eba169f": {
      "model_module": "@jupyter-widgets/base",
      "model_module_version": "1.2.0",
      "model_name": "LayoutModel",
      "state": {}
     }
    },
    "version_major": 2,
    "version_minor": 0
   }
  }
 },
 "nbformat": 4,
 "nbformat_minor": 4
}
